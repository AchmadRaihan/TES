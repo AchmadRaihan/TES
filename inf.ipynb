{
 "cells": [
  {
   "cell_type": "code",
   "execution_count": 1,
   "metadata": {},
   "outputs": [],
   "source": [
    "# import libraries\n",
    "import pickle\n",
    "import json\n",
    "import pandas as pd\n",
    "import numpy as np"
   ]
  },
  {
   "cell_type": "code",
   "execution_count": 2,
   "metadata": {},
   "outputs": [],
   "source": [
    "# load the files!\n",
    "\n",
    "with open('num_columns.txt','r') as file_1: #rb = read \n",
    "    num_columns= json.load(file_1)\n",
    "\n",
    "with open('ord_columns.txt','r') as file_2: #rb = read \n",
    "    ord_columns = json.load(file_2)\n",
    "\n",
    "with open('nom_columns.txt','r') as file_3: #rb = read binary\n",
    "    nom_columns = json.load(file_3)\n",
    "\n",
    "with open('pipe_svr.pkl','rb') as file_4: #rb = read binary\n",
    "    pipe_svr = pickle.load(file_4)\n",
    "\n",
    "with open('sc.pkl','rb') as file_5: #rb = read binary\n",
    "    sc = pickle.load(file_5)\n",
    "\n",
    "with open('no.pkl','rb') as file_6: #rb = read binary\n",
    "    no = pickle.load(file_6)\n",
    "\n",
    "with open('ordi.pkl','rb') as file_7: #rb = read binary\n",
    "    ordi = pickle.load(file_7)\n",
    "\n",
    "with open('svr_randomcv.pkl','rb') as file_8: #rb = read binary\n",
    "    svr_randomcv = pickle.load(file_8)"
   ]
  },
  {
   "cell_type": "code",
   "execution_count": 3,
   "metadata": {},
   "outputs": [],
   "source": [
    "data={ \n",
    "       'Hours_Studied': 5, \n",
    "       'Attendance': 0, \n",
    "       'Parental_Involvement': 'Low', \n",
    "       'Access_to_Resources': 'High', \n",
    "       'Extracurricular_Activities': 'Yes',\n",
    "       'Sleep_Hours': 6,\n",
    "       'Previous_Scores': 70,\n",
    "       'Motivation_Level': 'Low',\n",
    "       'Internet_Access': 'Yes',\n",
    "       'Tutoring_Sessions': 0, \n",
    "       'Family_Income': 'Low', \n",
    "       'Teacher_Quality': 'High', \n",
    "       'School_Type': 'Public',\n",
    "       'Peer_Influence': 'Negative',\n",
    "       'Physical_Activity': 7,\n",
    "       'Learning_Disabilities': 'Yes',\n",
    "       'Parental_Education_Level': 'College',\n",
    "       'Distance_from_Home': 'Moderate',\n",
    "       'Gender': 'Male'\n",
    "       }\n",
    "data = pd.DataFrame([data])"
   ]
  }
 ],
 "metadata": {
  "kernelspec": {
   "display_name": "base",
   "language": "python",
   "name": "python3"
  },
  "language_info": {
   "codemirror_mode": {
    "name": "ipython",
    "version": 3
   },
   "file_extension": ".py",
   "mimetype": "text/x-python",
   "name": "python",
   "nbconvert_exporter": "python",
   "pygments_lexer": "ipython3",
   "version": "3.12.4"
  }
 },
 "nbformat": 4,
 "nbformat_minor": 2
}
